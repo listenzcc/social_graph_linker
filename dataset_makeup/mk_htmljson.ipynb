{
 "cells": [
  {
   "cell_type": "code",
   "execution_count": 1,
   "metadata": {},
   "outputs": [],
   "source": [
    "import pandas as pd"
   ]
  },
  {
   "cell_type": "code",
   "execution_count": 2,
   "metadata": {},
   "outputs": [],
   "source": [
    "names = dict(\n",
    "    level2 = 'level2',\n",
    "    level3 = 'level3',\n",
    "    links = 'links',\n",
    ")\n",
    "\n",
    "dfs = dict()\n",
    "for name in names:\n",
    "    dfs[name] = pd.read_json('{}.json'.format(name))"
   ]
  },
  {
   "cell_type": "code",
   "execution_count": 3,
   "metadata": {},
   "outputs": [
    {
     "data": {
      "text/plain": [
       "{'level2':                      name                    majors  age      uid\n",
       " L2-0000        Yvjg Utcwi     [Police, Propagation]   55  L2-0000\n",
       " L2-0001       Lagqb Awsyd           [Industry, Law]   46  L2-0001\n",
       " L2-0002         Mpo Czesx  [Organization, Military]   51  L2-0002\n",
       " L2-0003       Chwpx Pngsz  [Industry, Organization]   48  L2-0003\n",
       " L2-0004       Oqelq Hsoai     [Propagation, Police]   61  L2-0004\n",
       " L2-0005       Aiesb Orkds   [Propagation, Military]   66  L2-0005\n",
       " L2-0006    Mxq Pmagaaxpus             [Police, Law]   63  L2-0006\n",
       " L2-0007  Unghm Mixuyzousm  [Industry, Organization]   58  L2-0007\n",
       " L2-0008      Zfns Ddgmrkb   [Military, Propagation]   53  L2-0008\n",
       " L2-0009     Cet Qnohbyfav   [Propagation, Industry]   71  L2-0009,\n",
       " 'level3':                     name         major  age      uid\n",
       " L3-0000   Dos Iyvpuudixn      Military   51  L3-0000\n",
       " L3-0001  Iump Wuanqejqsv           Law   44  L3-0001\n",
       " L3-0002     Yeb Ujuleiqz  Organization   46  L3-0002\n",
       " L3-0003       Qgxr Tfovd  Organization   59  L3-0003\n",
       " L3-0004  Nqnlf Vqbmntshi   Propagation   59  L3-0004\n",
       " ...                  ...           ...  ...      ...\n",
       " L3-0095      Ihrq Owebpc        Police   41  L3-0095\n",
       " L3-0096       Idux Dpgta           Law   42  L3-0096\n",
       " L3-0097     Ljcek Kimbon   Propagation   52  L3-0097\n",
       " L3-0098      Amlg Vmsmjz        Police   57  L3-0098\n",
       " L3-0099      Edghu Ieely        Police   69  L3-0099\n",
       " \n",
       " [100 rows x 4 columns],\n",
       " 'links':                                                      links      uid\n",
       " L2-0000  [L3-0072, L3-0056, L3-0043, L3-0095, L3-0025, ...  L2-0000\n",
       " L2-0001  [L3-0019, L3-0083, L3-0013, L3-0020, L3-0080, ...  L2-0001\n",
       " L2-0002  [L3-0062, L3-0029, L3-0071, L3-0085, L3-0026, ...  L2-0002\n",
       " L2-0003  [L3-0020, L3-0080, L3-0088, L3-0051, L3-0083, ...  L2-0003\n",
       " L2-0004  [L3-0054, L3-0097, L3-0093, L3-0006, L3-0008, ...  L2-0004\n",
       " L2-0005  [L3-0004, L3-0008, L3-0093, L3-0089, L3-0006, ...  L2-0005\n",
       " L2-0006  [L3-0095, L3-0043, L3-0091, L3-0042, L3-0069, ...  L2-0006\n",
       " L2-0007  [L3-0013, L3-0018, L3-0090, L3-0083, L3-0019, ...  L2-0007\n",
       " L2-0008  [L3-0000, L3-0012, L3-0058, L3-0009, L3-0021, ...  L2-0008\n",
       " L2-0009  [L3-0093, L3-0054, L3-0006, L3-0084, L3-0008, ...  L2-0009}"
      ]
     },
     "execution_count": 3,
     "metadata": {},
     "output_type": "execute_result"
    }
   ],
   "source": [
    "dfs"
   ]
  },
  {
   "cell_type": "code",
   "execution_count": 4,
   "metadata": {},
   "outputs": [
    {
     "data": {
      "text/html": [
       "<div>\n",
       "<style scoped>\n",
       "    .dataframe tbody tr th:only-of-type {\n",
       "        vertical-align: middle;\n",
       "    }\n",
       "\n",
       "    .dataframe tbody tr th {\n",
       "        vertical-align: top;\n",
       "    }\n",
       "\n",
       "    .dataframe thead th {\n",
       "        text-align: right;\n",
       "    }\n",
       "</style>\n",
       "<table border=\"1\" class=\"dataframe\">\n",
       "  <thead>\n",
       "    <tr style=\"text-align: right;\">\n",
       "      <th></th>\n",
       "      <th>uid1</th>\n",
       "      <th>uid2</th>\n",
       "    </tr>\n",
       "  </thead>\n",
       "  <tbody>\n",
       "    <tr>\n",
       "      <th>0</th>\n",
       "      <td>L2-0000</td>\n",
       "      <td>L3-0072</td>\n",
       "    </tr>\n",
       "    <tr>\n",
       "      <th>1</th>\n",
       "      <td>L2-0000</td>\n",
       "      <td>L3-0056</td>\n",
       "    </tr>\n",
       "    <tr>\n",
       "      <th>2</th>\n",
       "      <td>L2-0000</td>\n",
       "      <td>L3-0043</td>\n",
       "    </tr>\n",
       "    <tr>\n",
       "      <th>3</th>\n",
       "      <td>L2-0000</td>\n",
       "      <td>L3-0095</td>\n",
       "    </tr>\n",
       "    <tr>\n",
       "      <th>4</th>\n",
       "      <td>L2-0000</td>\n",
       "      <td>L3-0025</td>\n",
       "    </tr>\n",
       "    <tr>\n",
       "      <th>...</th>\n",
       "      <td>...</td>\n",
       "      <td>...</td>\n",
       "    </tr>\n",
       "    <tr>\n",
       "      <th>214</th>\n",
       "      <td>L2-0009</td>\n",
       "      <td>L3-0027</td>\n",
       "    </tr>\n",
       "    <tr>\n",
       "      <th>215</th>\n",
       "      <td>L2-0009</td>\n",
       "      <td>L3-0060</td>\n",
       "    </tr>\n",
       "    <tr>\n",
       "      <th>216</th>\n",
       "      <td>L2-0009</td>\n",
       "      <td>L3-0051</td>\n",
       "    </tr>\n",
       "    <tr>\n",
       "      <th>217</th>\n",
       "      <td>L2-0009</td>\n",
       "      <td>L3-0013</td>\n",
       "    </tr>\n",
       "    <tr>\n",
       "      <th>218</th>\n",
       "      <td>L2-0009</td>\n",
       "      <td>L3-0018</td>\n",
       "    </tr>\n",
       "  </tbody>\n",
       "</table>\n",
       "<p>219 rows × 2 columns</p>\n",
       "</div>"
      ],
      "text/plain": [
       "        uid1     uid2\n",
       "0    L2-0000  L3-0072\n",
       "1    L2-0000  L3-0056\n",
       "2    L2-0000  L3-0043\n",
       "3    L2-0000  L3-0095\n",
       "4    L2-0000  L3-0025\n",
       "..       ...      ...\n",
       "214  L2-0009  L3-0027\n",
       "215  L2-0009  L3-0060\n",
       "216  L2-0009  L3-0051\n",
       "217  L2-0009  L3-0013\n",
       "218  L2-0009  L3-0018\n",
       "\n",
       "[219 rows x 2 columns]"
      ]
     },
     "execution_count": 4,
     "metadata": {},
     "output_type": "execute_result"
    }
   ],
   "source": [
    "linkmap = pd.DataFrame(columns=['uid1', 'uid2'])\n",
    "for uid in dfs['links'].index:\n",
    "    uid1 = uid\n",
    "    for uid2 in dfs['links'].loc[uid]['links']:\n",
    "        linkmap = linkmap.append(pd.Series({'uid1': uid1, 'uid2': uid2}), ignore_index=True)\n",
    "\n",
    "dfs['links'] = linkmap\n",
    "linkmap"
   ]
  },
  {
   "cell_type": "code",
   "execution_count": 5,
   "metadata": {},
   "outputs": [],
   "source": [
    "for name in dfs:\n",
    "    dfs[name].to_json('{}_html.json'.format(name), orient='records')"
   ]
  },
  {
   "cell_type": "code",
   "execution_count": null,
   "metadata": {},
   "outputs": [],
   "source": []
  }
 ],
 "metadata": {
  "kernelspec": {
   "display_name": "Python 3",
   "language": "python",
   "name": "python3"
  },
  "language_info": {
   "codemirror_mode": {
    "name": "ipython",
    "version": 3
   },
   "file_extension": ".py",
   "mimetype": "text/x-python",
   "name": "python",
   "nbconvert_exporter": "python",
   "pygments_lexer": "ipython3",
   "version": "3.7.4"
  }
 },
 "nbformat": 4,
 "nbformat_minor": 4
}
