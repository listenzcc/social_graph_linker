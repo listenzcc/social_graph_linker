{
 "cells": [
  {
   "cell_type": "code",
   "execution_count": 1,
   "metadata": {},
   "outputs": [],
   "source": [
    "import pandas as pd"
   ]
  },
  {
   "cell_type": "code",
   "execution_count": 6,
   "metadata": {},
   "outputs": [],
   "source": [
    "names = dict(\n",
    "    level2 = 'level2',\n",
    "    level3 = 'level3',\n",
    "    links = 'links',\n",
    ")\n",
    "\n",
    "dfs = dict()\n",
    "for name in names:\n",
    "    dfs[name] = pd.read_json('{}.json'.format(name))"
   ]
  },
  {
   "cell_type": "code",
   "execution_count": 7,
   "metadata": {},
   "outputs": [
    {
     "data": {
      "text/plain": [
       "{'level2':                     name                       majors  age      uid\n",
       " L2-0000    Oqdgu Yvnljjo              [Military, Law]   40  L2-0000\n",
       " L2-0001      Okawy Bhxmt      [Propagation, Military]   45  L2-0001\n",
       " L2-0002      Ukqym Igxjg     [Military, Organization]   67  L2-0002\n",
       " L2-0003  Zunjy Oczvdftap         [Military, Industry]   55  L2-0003\n",
       " L2-0004      Zpjwo Dqepq         [Military, Industry]   48  L2-0004\n",
       " L2-0005    Zwm Ghbvqksmg                [Law, Police]   56  L2-0005\n",
       " L2-0006     Wkjpi Bsxykc     [Organization, Industry]   67  L2-0006\n",
       " L2-0007    Rbhn Giynrthw      [Propagation, Industry]   50  L2-0007\n",
       " L2-0008     Nqu Xkskaxbr              [Law, Military]   49  L2-0008\n",
       " L2-0009   Sqsqa Fxpdzqqn  [Propagation, Organization]   69  L2-0009,\n",
       " 'level3':                    name         major  age      uid\n",
       " L3-0000   Nlqpt Obpmxxm  Organization   40  L3-0000\n",
       " L3-0001       Gqm Dfwaa      Military   66  L3-0001\n",
       " L3-0002      Sor Zgpwfi      Industry   51  L3-0002\n",
       " L3-0003  Hpjk Ufldoqjnp        Police   60  L3-0003\n",
       " L3-0004      Mzq Vqbnoy           Law   42  L3-0004\n",
       " ...                 ...           ...  ...      ...\n",
       " L3-0095  Oato Zygftfpoe      Military   42  L3-0095\n",
       " L3-0096       Rpg Swmhe      Industry   69  L3-0096\n",
       " L3-0097     Spo Eltkrcq        Police   58  L3-0097\n",
       " L3-0098   Xyv Dbuukxfgk   Propagation   60  L3-0098\n",
       " L3-0099   Jxxjc Ljskqly           Law   75  L3-0099\n",
       " \n",
       " [100 rows x 4 columns],\n",
       " 'links':                                                      links      uid\n",
       " L2-0000  [L3-0004, L3-0003, L3-0012, L3-0011, L3-0005, ...  L2-0000\n",
       " L2-0001  [L3-0009, L3-0011, L3-0010, L3-0006, L3-0000, ...  L2-0001\n",
       " L2-0002  [L3-0008, L3-0000, L3-0011, L3-0002, L3-0003, ...  L2-0002\n",
       " L2-0003  [L3-0000, L3-0002, L3-0008, L3-0007, L3-0006, ...  L2-0003\n",
       " L2-0004  [L3-0005, L3-0007, L3-0001, L3-0009, L3-0000, ...  L2-0004\n",
       " L2-0005  [L3-0009, L3-0010, L3-0002, L3-0003, L3-0005, ...  L2-0005\n",
       " L2-0006  [L3-0008, L3-0002, L3-0012, L3-0004, L3-0007, ...  L2-0006\n",
       " L2-0007  [L3-0006, L3-0012, L3-0003, L3-0005, L3-0007, ...  L2-0007\n",
       " L2-0008  [L3-0012, L3-0005, L3-0010, L3-0001, L3-0007, ...  L2-0008\n",
       " L2-0009  [L3-0010, L3-0007, L3-0001, L3-0008, L3-0004, ...  L2-0009}"
      ]
     },
     "execution_count": 7,
     "metadata": {},
     "output_type": "execute_result"
    }
   ],
   "source": [
    "dfs"
   ]
  },
  {
   "cell_type": "code",
   "execution_count": 8,
   "metadata": {},
   "outputs": [],
   "source": [
    "for name in dfs:\n",
    "    dfs[name].to_json('{}_html.json'.format(name), orient='records')"
   ]
  },
  {
   "cell_type": "code",
   "execution_count": null,
   "metadata": {},
   "outputs": [],
   "source": []
  }
 ],
 "metadata": {
  "kernelspec": {
   "display_name": "Python 3",
   "language": "python",
   "name": "python3"
  },
  "language_info": {
   "codemirror_mode": {
    "name": "ipython",
    "version": 3
   },
   "file_extension": ".py",
   "mimetype": "text/x-python",
   "name": "python",
   "nbconvert_exporter": "python",
   "pygments_lexer": "ipython3",
   "version": "3.7.4"
  }
 },
 "nbformat": 4,
 "nbformat_minor": 4
}
