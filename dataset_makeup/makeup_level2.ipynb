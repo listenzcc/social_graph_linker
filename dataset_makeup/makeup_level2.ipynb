{
 "cells": [
  {
   "cell_type": "code",
   "execution_count": 1,
   "metadata": {},
   "outputs": [],
   "source": [
    "import random\n",
    "import pandas as pd"
   ]
  },
  {
   "cell_type": "code",
   "execution_count": 2,
   "metadata": {},
   "outputs": [],
   "source": [
    "departments = ['Organization', 'Police', 'Propagation', 'Military', 'Law', 'Industry']\n",
    "\n",
    "def random_majors(majors=departments, k=2):\n",
    "    return random.sample(majors, k=k)\n",
    "\n",
    "def random_name(region=None, k=None):\n",
    "    if region is None:\n",
    "        region = [chr(e) for e in range(ord('a'), ord('z')+1)]\n",
    "    if k is None:\n",
    "        k = [random.randint(3, 5), random.randint(5, 10)]\n",
    "    xing = ''.join(random.choices(region, k=k[0])).title()\n",
    "    ming = ''.join(random.choices(region, k=k[1])).title()\n",
    "    return ' '.join([xing, ming])\n",
    "\n",
    "def random_age(low=40, high=75):\n",
    "    return random.randint(low, high)\n",
    "\n",
    "def level2_uid(idx):\n",
    "    return 'L2-{idx:04d}'.format(idx=idx)"
   ]
  },
  {
   "cell_type": "code",
   "execution_count": 3,
   "metadata": {},
   "outputs": [],
   "source": [
    "num_level2 = 10"
   ]
  },
  {
   "cell_type": "code",
   "execution_count": 4,
   "metadata": {},
   "outputs": [
    {
     "data": {
      "text/html": [
       "<div>\n",
       "<style scoped>\n",
       "    .dataframe tbody tr th:only-of-type {\n",
       "        vertical-align: middle;\n",
       "    }\n",
       "\n",
       "    .dataframe tbody tr th {\n",
       "        vertical-align: top;\n",
       "    }\n",
       "\n",
       "    .dataframe thead th {\n",
       "        text-align: right;\n",
       "    }\n",
       "</style>\n",
       "<table border=\"1\" class=\"dataframe\">\n",
       "  <thead>\n",
       "    <tr style=\"text-align: right;\">\n",
       "      <th></th>\n",
       "      <th>name</th>\n",
       "      <th>majors</th>\n",
       "      <th>age</th>\n",
       "      <th>uid</th>\n",
       "    </tr>\n",
       "  </thead>\n",
       "  <tbody>\n",
       "  </tbody>\n",
       "</table>\n",
       "</div>"
      ],
      "text/plain": [
       "Empty DataFrame\n",
       "Columns: [name, majors, age, uid]\n",
       "Index: []"
      ]
     },
     "execution_count": 4,
     "metadata": {},
     "output_type": "execute_result"
    }
   ],
   "source": [
    "level2_df = pd.DataFrame(columns=['name', 'majors', 'age', 'uid'])\n",
    "level2_df"
   ]
  },
  {
   "cell_type": "code",
   "execution_count": 5,
   "metadata": {},
   "outputs": [
    {
     "data": {
      "text/html": [
       "<div>\n",
       "<style scoped>\n",
       "    .dataframe tbody tr th:only-of-type {\n",
       "        vertical-align: middle;\n",
       "    }\n",
       "\n",
       "    .dataframe tbody tr th {\n",
       "        vertical-align: top;\n",
       "    }\n",
       "\n",
       "    .dataframe thead th {\n",
       "        text-align: right;\n",
       "    }\n",
       "</style>\n",
       "<table border=\"1\" class=\"dataframe\">\n",
       "  <thead>\n",
       "    <tr style=\"text-align: right;\">\n",
       "      <th></th>\n",
       "      <th>name</th>\n",
       "      <th>majors</th>\n",
       "      <th>age</th>\n",
       "      <th>uid</th>\n",
       "    </tr>\n",
       "  </thead>\n",
       "  <tbody>\n",
       "    <tr>\n",
       "      <th>L2-0000</th>\n",
       "      <td>Oqdgu Yvnljjo</td>\n",
       "      <td>[Military, Law]</td>\n",
       "      <td>40</td>\n",
       "      <td>L2-0000</td>\n",
       "    </tr>\n",
       "    <tr>\n",
       "      <th>L2-0001</th>\n",
       "      <td>Okawy Bhxmt</td>\n",
       "      <td>[Propagation, Military]</td>\n",
       "      <td>45</td>\n",
       "      <td>L2-0001</td>\n",
       "    </tr>\n",
       "    <tr>\n",
       "      <th>L2-0002</th>\n",
       "      <td>Ukqym Igxjg</td>\n",
       "      <td>[Military, Organization]</td>\n",
       "      <td>67</td>\n",
       "      <td>L2-0002</td>\n",
       "    </tr>\n",
       "    <tr>\n",
       "      <th>L2-0003</th>\n",
       "      <td>Zunjy Oczvdftap</td>\n",
       "      <td>[Military, Industry]</td>\n",
       "      <td>55</td>\n",
       "      <td>L2-0003</td>\n",
       "    </tr>\n",
       "    <tr>\n",
       "      <th>L2-0004</th>\n",
       "      <td>Zpjwo Dqepq</td>\n",
       "      <td>[Military, Industry]</td>\n",
       "      <td>48</td>\n",
       "      <td>L2-0004</td>\n",
       "    </tr>\n",
       "    <tr>\n",
       "      <th>L2-0005</th>\n",
       "      <td>Zwm Ghbvqksmg</td>\n",
       "      <td>[Law, Police]</td>\n",
       "      <td>56</td>\n",
       "      <td>L2-0005</td>\n",
       "    </tr>\n",
       "    <tr>\n",
       "      <th>L2-0006</th>\n",
       "      <td>Wkjpi Bsxykc</td>\n",
       "      <td>[Organization, Industry]</td>\n",
       "      <td>67</td>\n",
       "      <td>L2-0006</td>\n",
       "    </tr>\n",
       "    <tr>\n",
       "      <th>L2-0007</th>\n",
       "      <td>Rbhn Giynrthw</td>\n",
       "      <td>[Propagation, Industry]</td>\n",
       "      <td>50</td>\n",
       "      <td>L2-0007</td>\n",
       "    </tr>\n",
       "    <tr>\n",
       "      <th>L2-0008</th>\n",
       "      <td>Nqu Xkskaxbr</td>\n",
       "      <td>[Law, Military]</td>\n",
       "      <td>49</td>\n",
       "      <td>L2-0008</td>\n",
       "    </tr>\n",
       "    <tr>\n",
       "      <th>L2-0009</th>\n",
       "      <td>Sqsqa Fxpdzqqn</td>\n",
       "      <td>[Propagation, Organization]</td>\n",
       "      <td>69</td>\n",
       "      <td>L2-0009</td>\n",
       "    </tr>\n",
       "  </tbody>\n",
       "</table>\n",
       "</div>"
      ],
      "text/plain": [
       "                    name                       majors age      uid\n",
       "L2-0000    Oqdgu Yvnljjo              [Military, Law]  40  L2-0000\n",
       "L2-0001      Okawy Bhxmt      [Propagation, Military]  45  L2-0001\n",
       "L2-0002      Ukqym Igxjg     [Military, Organization]  67  L2-0002\n",
       "L2-0003  Zunjy Oczvdftap         [Military, Industry]  55  L2-0003\n",
       "L2-0004      Zpjwo Dqepq         [Military, Industry]  48  L2-0004\n",
       "L2-0005    Zwm Ghbvqksmg                [Law, Police]  56  L2-0005\n",
       "L2-0006     Wkjpi Bsxykc     [Organization, Industry]  67  L2-0006\n",
       "L2-0007    Rbhn Giynrthw      [Propagation, Industry]  50  L2-0007\n",
       "L2-0008     Nqu Xkskaxbr              [Law, Military]  49  L2-0008\n",
       "L2-0009   Sqsqa Fxpdzqqn  [Propagation, Organization]  69  L2-0009"
      ]
     },
     "execution_count": 5,
     "metadata": {},
     "output_type": "execute_result"
    }
   ],
   "source": [
    "for _ in range(num_level2):\n",
    "    uid = level2_uid(_)\n",
    "    info = dict(\n",
    "        majors = random_majors(),\n",
    "        name = random_name(),\n",
    "        age = random_age(),\n",
    "        uid = uid\n",
    "    )\n",
    "    level2_df = level2_df.append(pd.Series(info, name=uid))\n",
    "level2_df"
   ]
  },
  {
   "cell_type": "code",
   "execution_count": 6,
   "metadata": {},
   "outputs": [],
   "source": [
    "level2_df.to_json('level2.json')"
   ]
  },
  {
   "cell_type": "code",
   "execution_count": null,
   "metadata": {},
   "outputs": [],
   "source": []
  }
 ],
 "metadata": {
  "kernelspec": {
   "display_name": "Python 3",
   "language": "python",
   "name": "python3"
  },
  "language_info": {
   "codemirror_mode": {
    "name": "ipython",
    "version": 3
   },
   "file_extension": ".py",
   "mimetype": "text/x-python",
   "name": "python",
   "nbconvert_exporter": "python",
   "pygments_lexer": "ipython3",
   "version": "3.7.4"
  }
 },
 "nbformat": 4,
 "nbformat_minor": 4
}
