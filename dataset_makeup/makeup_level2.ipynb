{
 "cells": [
  {
   "cell_type": "code",
   "execution_count": 1,
   "metadata": {},
   "outputs": [],
   "source": [
    "import random\n",
    "import pandas as pd"
   ]
  },
  {
   "cell_type": "code",
   "execution_count": 2,
   "metadata": {},
   "outputs": [],
   "source": [
    "departments = ['Organization', 'Police', 'Propagation', 'Military', 'Law', 'Industry']\n",
    "\n",
    "def random_majors(majors=departments, k=2):\n",
    "    return random.sample(majors, k=k)\n",
    "\n",
    "def random_name(region=None, k=None):\n",
    "    if region is None:\n",
    "        region = [chr(e) for e in range(ord('a'), ord('z')+1)]\n",
    "    if k is None:\n",
    "        k = [random.randint(3, 5), random.randint(5, 10)]\n",
    "    xing = ''.join(random.choices(region, k=k[0])).title()\n",
    "    ming = ''.join(random.choices(region, k=k[1])).title()\n",
    "    return ' '.join([xing, ming])\n",
    "\n",
    "def random_age(low=40, high=75):\n",
    "    return random.randint(low, high)\n",
    "\n",
    "def level2_uid(idx):\n",
    "    return 'L2-{idx:04d}'.format(idx=idx)"
   ]
  },
  {
   "cell_type": "code",
   "execution_count": 3,
   "metadata": {},
   "outputs": [],
   "source": [
    "num_level2 = 10"
   ]
  },
  {
   "cell_type": "code",
   "execution_count": 4,
   "metadata": {},
   "outputs": [
    {
     "data": {
      "text/html": [
       "<div>\n",
       "<style scoped>\n",
       "    .dataframe tbody tr th:only-of-type {\n",
       "        vertical-align: middle;\n",
       "    }\n",
       "\n",
       "    .dataframe tbody tr th {\n",
       "        vertical-align: top;\n",
       "    }\n",
       "\n",
       "    .dataframe thead th {\n",
       "        text-align: right;\n",
       "    }\n",
       "</style>\n",
       "<table border=\"1\" class=\"dataframe\">\n",
       "  <thead>\n",
       "    <tr style=\"text-align: right;\">\n",
       "      <th></th>\n",
       "      <th>name</th>\n",
       "      <th>majors</th>\n",
       "      <th>age</th>\n",
       "      <th>uid</th>\n",
       "    </tr>\n",
       "  </thead>\n",
       "  <tbody>\n",
       "  </tbody>\n",
       "</table>\n",
       "</div>"
      ],
      "text/plain": [
       "Empty DataFrame\n",
       "Columns: [name, majors, age, uid]\n",
       "Index: []"
      ]
     },
     "execution_count": 4,
     "metadata": {},
     "output_type": "execute_result"
    }
   ],
   "source": [
    "level2_df = pd.DataFrame(columns=['name', 'majors', 'age', 'uid'])\n",
    "level2_df"
   ]
  },
  {
   "cell_type": "code",
   "execution_count": 5,
   "metadata": {},
   "outputs": [
    {
     "data": {
      "text/html": [
       "<div>\n",
       "<style scoped>\n",
       "    .dataframe tbody tr th:only-of-type {\n",
       "        vertical-align: middle;\n",
       "    }\n",
       "\n",
       "    .dataframe tbody tr th {\n",
       "        vertical-align: top;\n",
       "    }\n",
       "\n",
       "    .dataframe thead th {\n",
       "        text-align: right;\n",
       "    }\n",
       "</style>\n",
       "<table border=\"1\" class=\"dataframe\">\n",
       "  <thead>\n",
       "    <tr style=\"text-align: right;\">\n",
       "      <th></th>\n",
       "      <th>name</th>\n",
       "      <th>majors</th>\n",
       "      <th>age</th>\n",
       "      <th>uid</th>\n",
       "    </tr>\n",
       "  </thead>\n",
       "  <tbody>\n",
       "    <tr>\n",
       "      <th>L2-0000</th>\n",
       "      <td>Yvjg Utcwi</td>\n",
       "      <td>[Police, Propagation]</td>\n",
       "      <td>55</td>\n",
       "      <td>L2-0000</td>\n",
       "    </tr>\n",
       "    <tr>\n",
       "      <th>L2-0001</th>\n",
       "      <td>Lagqb Awsyd</td>\n",
       "      <td>[Industry, Law]</td>\n",
       "      <td>46</td>\n",
       "      <td>L2-0001</td>\n",
       "    </tr>\n",
       "    <tr>\n",
       "      <th>L2-0002</th>\n",
       "      <td>Mpo Czesx</td>\n",
       "      <td>[Organization, Military]</td>\n",
       "      <td>51</td>\n",
       "      <td>L2-0002</td>\n",
       "    </tr>\n",
       "    <tr>\n",
       "      <th>L2-0003</th>\n",
       "      <td>Chwpx Pngsz</td>\n",
       "      <td>[Industry, Organization]</td>\n",
       "      <td>48</td>\n",
       "      <td>L2-0003</td>\n",
       "    </tr>\n",
       "    <tr>\n",
       "      <th>L2-0004</th>\n",
       "      <td>Oqelq Hsoai</td>\n",
       "      <td>[Propagation, Police]</td>\n",
       "      <td>61</td>\n",
       "      <td>L2-0004</td>\n",
       "    </tr>\n",
       "    <tr>\n",
       "      <th>L2-0005</th>\n",
       "      <td>Aiesb Orkds</td>\n",
       "      <td>[Propagation, Military]</td>\n",
       "      <td>66</td>\n",
       "      <td>L2-0005</td>\n",
       "    </tr>\n",
       "    <tr>\n",
       "      <th>L2-0006</th>\n",
       "      <td>Mxq Pmagaaxpus</td>\n",
       "      <td>[Police, Law]</td>\n",
       "      <td>63</td>\n",
       "      <td>L2-0006</td>\n",
       "    </tr>\n",
       "    <tr>\n",
       "      <th>L2-0007</th>\n",
       "      <td>Unghm Mixuyzousm</td>\n",
       "      <td>[Industry, Organization]</td>\n",
       "      <td>58</td>\n",
       "      <td>L2-0007</td>\n",
       "    </tr>\n",
       "    <tr>\n",
       "      <th>L2-0008</th>\n",
       "      <td>Zfns Ddgmrkb</td>\n",
       "      <td>[Military, Propagation]</td>\n",
       "      <td>53</td>\n",
       "      <td>L2-0008</td>\n",
       "    </tr>\n",
       "    <tr>\n",
       "      <th>L2-0009</th>\n",
       "      <td>Cet Qnohbyfav</td>\n",
       "      <td>[Propagation, Industry]</td>\n",
       "      <td>71</td>\n",
       "      <td>L2-0009</td>\n",
       "    </tr>\n",
       "  </tbody>\n",
       "</table>\n",
       "</div>"
      ],
      "text/plain": [
       "                     name                    majors age      uid\n",
       "L2-0000        Yvjg Utcwi     [Police, Propagation]  55  L2-0000\n",
       "L2-0001       Lagqb Awsyd           [Industry, Law]  46  L2-0001\n",
       "L2-0002         Mpo Czesx  [Organization, Military]  51  L2-0002\n",
       "L2-0003       Chwpx Pngsz  [Industry, Organization]  48  L2-0003\n",
       "L2-0004       Oqelq Hsoai     [Propagation, Police]  61  L2-0004\n",
       "L2-0005       Aiesb Orkds   [Propagation, Military]  66  L2-0005\n",
       "L2-0006    Mxq Pmagaaxpus             [Police, Law]  63  L2-0006\n",
       "L2-0007  Unghm Mixuyzousm  [Industry, Organization]  58  L2-0007\n",
       "L2-0008      Zfns Ddgmrkb   [Military, Propagation]  53  L2-0008\n",
       "L2-0009     Cet Qnohbyfav   [Propagation, Industry]  71  L2-0009"
      ]
     },
     "execution_count": 5,
     "metadata": {},
     "output_type": "execute_result"
    }
   ],
   "source": [
    "for _ in range(num_level2):\n",
    "    uid = level2_uid(_)\n",
    "    info = dict(\n",
    "        majors = random_majors(),\n",
    "        name = random_name(),\n",
    "        age = random_age(),\n",
    "        uid = uid\n",
    "    )\n",
    "    level2_df = level2_df.append(pd.Series(info, name=uid))\n",
    "level2_df"
   ]
  },
  {
   "cell_type": "code",
   "execution_count": 6,
   "metadata": {},
   "outputs": [],
   "source": [
    "level2_df.to_json('level2.json')"
   ]
  },
  {
   "cell_type": "code",
   "execution_count": null,
   "metadata": {},
   "outputs": [],
   "source": []
  }
 ],
 "metadata": {
  "kernelspec": {
   "display_name": "Python 3",
   "language": "python",
   "name": "python3"
  },
  "language_info": {
   "codemirror_mode": {
    "name": "ipython",
    "version": 3
   },
   "file_extension": ".py",
   "mimetype": "text/x-python",
   "name": "python",
   "nbconvert_exporter": "python",
   "pygments_lexer": "ipython3",
   "version": "3.7.4"
  }
 },
 "nbformat": 4,
 "nbformat_minor": 4
}
