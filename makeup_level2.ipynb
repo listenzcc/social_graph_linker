{
 "cells": [
  {
   "cell_type": "code",
   "execution_count": 1,
   "metadata": {},
   "outputs": [],
   "source": [
    "import random\n",
    "import pandas as pd"
   ]
  },
  {
   "cell_type": "code",
   "execution_count": 2,
   "metadata": {},
   "outputs": [],
   "source": [
    "departments = ['Organization', 'Police', 'Propagation', 'Military', 'Law', 'Industry']\n",
    "\n",
    "def random_majors(majors=departments, k=2):\n",
    "    return random.choices(majors, k=k)\n",
    "\n",
    "def random_name(region=None, k=None):\n",
    "    if region is None:\n",
    "        region = [chr(e) for e in range(ord('a'), ord('z')+1)]\n",
    "    if k is None:\n",
    "        k = [random.randint(3, 5), random.randint(5, 10)]\n",
    "    xing = ''.join(random.choices(region, k=k[0])).title()\n",
    "    ming = ''.join(random.choices(region, k=k[1])).title()\n",
    "    return ' '.join([xing, ming])\n",
    "\n",
    "def random_age(low=40, high=75):\n",
    "    return random.randint(low, high)"
   ]
  },
  {
   "cell_type": "code",
   "execution_count": 3,
   "metadata": {},
   "outputs": [],
   "source": [
    "num_level2 = 10"
   ]
  },
  {
   "cell_type": "code",
   "execution_count": null,
   "metadata": {},
   "outputs": [],
   "source": []
  }
 ],
 "metadata": {
  "kernelspec": {
   "display_name": "Python 3",
   "language": "python",
   "name": "python3"
  },
  "language_info": {
   "codemirror_mode": {
    "name": "ipython",
    "version": 3
   },
   "file_extension": ".py",
   "mimetype": "text/x-python",
   "name": "python",
   "nbconvert_exporter": "python",
   "pygments_lexer": "ipython3",
   "version": "3.7.4"
  }
 },
 "nbformat": 4,
 "nbformat_minor": 4
}
